{
 "cells": [
  {
   "attachments": {},
   "cell_type": "markdown",
   "metadata": {},
   "source": [
    "# Can we predict when someone is home?\n",
    "\n",
    "Using the data we will in the report try to predict if someone is home using machinelearning. We will first start here with reading the data."
   ]
  },
  {
   "cell_type": "code",
   "execution_count": 46,
   "metadata": {},
   "outputs": [],
   "source": [
    "import sys\n",
    "import os\n",
    "import warnings\n",
    "\n",
    "# Hide warnings\n",
    "sys.path.append('../')  # Add the parent directory to the system path\n",
    "\n",
    "\n",
    "from tools.home_messages_db  import *\n",
    "# db_url = 'sqlite:///myhome.db'\n",
    "db_url = f'sqlite:///{os.path.join(os.path.dirname(os.getcwd()), \"myhome.db\")}'\n",
    "\n",
    "db = home_messages_db(url = db_url)\n"
   ]
  },
  {
   "cell_type": "code",
   "execution_count": 47,
   "metadata": {},
   "outputs": [],
   "source": [
    "device_data = db.query_df(\"\"\" \n",
    "SELECT\n",
    "  messages.time, messages.attribute, messages.value, Unitcap.capability, Unitcap.unit, Devices.label, Devices.location\n",
    "FROM messages\n",
    "JOIN Devices\n",
    "  ON messages.device_id = Devices.device_id\n",
    "JOIN Unitcap\n",
    "  ON messages.attribute = Unitcap.attribute\n",
    "\"\"\")"
   ]
  },
  {
   "attachments": {},
   "cell_type": "markdown",
   "metadata": {},
   "source": [
    "# Data investigation\n",
    "\n",
    "Lets take first a look at the data and the values we have.  We can see in the unique locations that there are sensors inside and outside the house. We can also see in capability what kind of device it is, interesting enough there are motionsensors and lightswitches.\n"
   ]
  },
  {
   "cell_type": "code",
   "execution_count": 48,
   "metadata": {},
   "outputs": [
    {
     "data": {
      "text/html": [
       "<div>\n",
       "<style scoped>\n",
       "    .dataframe tbody tr th:only-of-type {\n",
       "        vertical-align: middle;\n",
       "    }\n",
       "\n",
       "    .dataframe tbody tr th {\n",
       "        vertical-align: top;\n",
       "    }\n",
       "\n",
       "    .dataframe thead th {\n",
       "        text-align: right;\n",
       "    }\n",
       "</style>\n",
       "<table border=\"1\" class=\"dataframe\">\n",
       "  <thead>\n",
       "    <tr style=\"text-align: right;\">\n",
       "      <th></th>\n",
       "      <th>time</th>\n",
       "      <th>attribute</th>\n",
       "      <th>value</th>\n",
       "      <th>capability</th>\n",
       "      <th>unit</th>\n",
       "      <th>label</th>\n",
       "      <th>location</th>\n",
       "    </tr>\n",
       "  </thead>\n",
       "  <tbody>\n",
       "    <tr>\n",
       "      <th>0</th>\n",
       "      <td>1665346388</td>\n",
       "      <td>switch</td>\n",
       "      <td>off</td>\n",
       "      <td>switch</td>\n",
       "      <td>None</td>\n",
       "      <td>Light: flower</td>\n",
       "      <td>bathroom</td>\n",
       "    </tr>\n",
       "    <tr>\n",
       "      <th>1</th>\n",
       "      <td>1665346402</td>\n",
       "      <td>switch</td>\n",
       "      <td>on</td>\n",
       "      <td>switch</td>\n",
       "      <td>None</td>\n",
       "      <td>Light: flower</td>\n",
       "      <td>bathroom</td>\n",
       "    </tr>\n",
       "    <tr>\n",
       "      <th>2</th>\n",
       "      <td>1665347032</td>\n",
       "      <td>switch</td>\n",
       "      <td>off</td>\n",
       "      <td>switch</td>\n",
       "      <td>None</td>\n",
       "      <td>Light: flower</td>\n",
       "      <td>bathroom</td>\n",
       "    </tr>\n",
       "    <tr>\n",
       "      <th>3</th>\n",
       "      <td>1665347091</td>\n",
       "      <td>switch</td>\n",
       "      <td>on</td>\n",
       "      <td>switch</td>\n",
       "      <td>None</td>\n",
       "      <td>Light: flower</td>\n",
       "      <td>bathroom</td>\n",
       "    </tr>\n",
       "    <tr>\n",
       "      <th>4</th>\n",
       "      <td>1665349812</td>\n",
       "      <td>switch</td>\n",
       "      <td>off</td>\n",
       "      <td>switch</td>\n",
       "      <td>None</td>\n",
       "      <td>Light: flower</td>\n",
       "      <td>bathroom</td>\n",
       "    </tr>\n",
       "  </tbody>\n",
       "</table>\n",
       "</div>"
      ],
      "text/plain": [
       "         time attribute value capability  unit          label  location\n",
       "0  1665346388    switch   off     switch  None  Light: flower  bathroom\n",
       "1  1665346402    switch    on     switch  None  Light: flower  bathroom\n",
       "2  1665347032    switch   off     switch  None  Light: flower  bathroom\n",
       "3  1665347091    switch    on     switch  None  Light: flower  bathroom\n",
       "4  1665349812    switch   off     switch  None  Light: flower  bathroom"
      ]
     },
     "execution_count": 48,
     "metadata": {},
     "output_type": "execute_result"
    }
   ],
   "source": [
    "device_data.head()"
   ]
  },
  {
   "cell_type": "code",
   "execution_count": 49,
   "metadata": {},
   "outputs": [
    {
     "data": {
      "text/plain": [
       "array(['bathroom', 'blue room', 'garden', 'gray room', 'green room',\n",
       "       'kitchen', 'living room', 'roof'], dtype=object)"
      ]
     },
     "execution_count": 49,
     "metadata": {},
     "output_type": "execute_result"
    }
   ],
   "source": [
    "import numpy as np\n",
    "\n",
    "np.unique(device_data.location)"
   ]
  },
  {
   "cell_type": "code",
   "execution_count": 50,
   "metadata": {},
   "outputs": [
    {
     "data": {
      "text/plain": [
       "array(['accelerationSensor', 'button', 'colorControl', 'colorTemperature',\n",
       "       'contactSensor', 'energyMeter', 'illuminanceMeasurement',\n",
       "       'motionSensor', 'powerMeter', 'relativeHumidityMeasurement',\n",
       "       'signalStrength', 'switch', 'switchLevel', 'tamperAlert',\n",
       "       'temperatureMeasurement', 'ultravioletIndex', 'voltageMeasurement',\n",
       "       'winterdictionary35590.cube'], dtype=object)"
      ]
     },
     "execution_count": 50,
     "metadata": {},
     "output_type": "execute_result"
    }
   ],
   "source": [
    "np.unique(device_data.capability)"
   ]
  },
  {
   "attachments": {},
   "cell_type": "markdown",
   "metadata": {},
   "source": [
    "## Data cleaning\n",
    "\n",
    "Before we can interpret our results we will try to clean the data. We will perform the following cleaning:\n",
    "\n",
    "- convert datatime to interpratible datetime\n",
    "- Add the weekday\n",
    "- Remove the devices outside of the home (roof and garden)\n",
    "- Only focuss on motionsensors, controllsensor, and lightswitches\n"
   ]
  },
  {
   "cell_type": "code",
   "execution_count": 51,
   "metadata": {},
   "outputs": [],
   "source": [
    "import datetime\n",
    "\n",
    "device_data.time = device_data.time.apply(lambda x : datetime.datetime.fromtimestamp(int(x)))\n",
    "device_data.index = device_data.time\n",
    "device_data = device_data.drop(columns=\"time\")"
   ]
  },
  {
   "cell_type": "code",
   "execution_count": 52,
   "metadata": {},
   "outputs": [],
   "source": [
    "device_data['Weekday'] = device_data.index.map(lambda x : pd.Timestamp(x).day_name())"
   ]
  },
  {
   "cell_type": "code",
   "execution_count": 53,
   "metadata": {},
   "outputs": [],
   "source": [
    "locations_inside = [\"bathroom\", \"blue room\", \"gray room\", \"green room\", \"kitchen\", \"living room\"]\n",
    "device_data = device_data.loc[device_data.location.isin(locations_inside), :]"
   ]
  },
  {
   "cell_type": "code",
   "execution_count": 54,
   "metadata": {},
   "outputs": [],
   "source": [
    "devices = [\"contactSensor\", \"motionSensor\", \"switch\"]\n",
    "device_data = device_data.loc[device_data.capability.isin(devices), :]"
   ]
  },
  {
   "attachments": {},
   "cell_type": "markdown",
   "metadata": {},
   "source": [
    "# Data investigation\n",
    "We will now look at our remaining data and see if there are patterns we could use. To do this we will look at the 10th of october 2022 and 10th of november"
   ]
  },
  {
   "cell_type": "code",
   "execution_count": 57,
   "metadata": {},
   "outputs": [],
   "source": [
    "day_pattern_1010 = device_data.loc[device_data.index.strftime('%Y-%m-%d') == \"2022-10-10\", :]\n",
    "day_pattern_1110 = device_data.loc[device_data.index.strftime('%Y-%m-%d') == \"2022-11-10\", :]"
   ]
  },
  {
   "cell_type": "code",
   "execution_count": 58,
   "metadata": {},
   "outputs": [
    {
     "name": "stdout",
     "output_type": "stream",
     "text": [
      "10 october: ['switch']\n",
      "10 november: ['motionSensor' 'switch']\n"
     ]
    }
   ],
   "source": [
    "print(f\"10 october: {np.unique(day_pattern_1010.capability)}\")\n",
    "print(f\"10 november: {np.unique(day_pattern_1110.capability)}\")"
   ]
  },
  {
   "attachments": {},
   "cell_type": "markdown",
   "metadata": {},
   "source": [
    "The first interesting thing is that the sensors are not there on everyday. So we have to rely mainly on the switch. Looking more into depth in this we can see that the motion sensor is installed on the 14th of october and the motion sensor on the 4 of december. We will thus filter the data to go past the 4th of december."
   ]
  },
  {
   "cell_type": "code",
   "execution_count": 61,
   "metadata": {},
   "outputs": [
    {
     "name": "stdout",
     "output_type": "stream",
     "text": [
      "Contact sensor: DatetimeIndex(['2022-12-02 10:09:56'], dtype='datetime64[ns]', name='time', freq=None)\n",
      "Motion sensor: DatetimeIndex(['2022-10-14 12:10:09'], dtype='datetime64[ns]', name='time', freq=None)\n"
     ]
    }
   ],
   "source": [
    "fd_contact = device_data.loc[device_data.capability == \"contactSensor\"].head(1).index\n",
    "fd_motion = device_data.loc[device_data.capability == \"motionSensor\"].head(1).index\n",
    "\n",
    "print(f\"Contact sensor: {fd_contact}\")\n",
    "print(f\"Motion sensor: {fd_motion}\")"
   ]
  },
  {
   "cell_type": "code",
   "execution_count": 63,
   "metadata": {},
   "outputs": [],
   "source": [
    "from datetime import datetime\n",
    "\n",
    "device_data = device_data.loc[device_data.index >= datetime.strptime(\"12-4-2022\", '%m-%d-%Y'), :]"
   ]
  },
  {
   "attachments": {},
   "cell_type": "markdown",
   "metadata": {},
   "source": [
    "We will now plot a day, 10 december and for each sensor we will plot the time and with color if they are on/ off or active inactive"
   ]
  },
  {
   "cell_type": "code",
   "execution_count": 64,
   "metadata": {},
   "outputs": [],
   "source": [
    "day_pattern_1210 = device_data.loc[device_data.index.strftime('%Y-%m-%d') == \"2022-12-10\", :]"
   ]
  },
  {
   "cell_type": "code",
   "execution_count": 65,
   "metadata": {},
   "outputs": [
    {
     "data": {
      "text/plain": [
       "Text(0.5, 1.0, 'Motion sensor')"
      ]
     },
     "execution_count": 65,
     "metadata": {},
     "output_type": "execute_result"
    },
    {
     "data": {
      "image/png": "[encoded data removed]",
      "text/plain": [
       "<Figure size 1500x500 with 3 Axes>"
      ]
     },
     "metadata": {},
     "output_type": "display_data"
    }
   ],
   "source": [
    "import matplotlib.pyplot as plt\n",
    "import seaborn as sb\n",
    "import matplotlib.dates as mdates\n",
    "\n",
    "sb.set_theme(style=\"whitegrid\", palette=\"pastel\")\n",
    "fig, axs = plt.subplots(1, 3, figsize=(15, 5), sharey=True)\n",
    "fig.suptitle('Activity on the 10th of december 2022')\n",
    "\n",
    "# Plot switches\n",
    "ax_switch = sb.scatterplot(x=\"time\", y=\"location\",\n",
    "              hue=\"value\",\n",
    "              data=day_pattern_1210.loc[day_pattern_1210.capability == \"switch\",:],\n",
    "              ax = axs[0]\n",
    ")\n",
    "ax_switch.xaxis.set_major_locator(mdates.HourLocator(interval=4))\n",
    "ax_switch.xaxis.set_major_formatter(mdates.DateFormatter('%H:%M'))\n",
    "\n",
    "# Plot contact sensor\n",
    "ax_contact = sb.scatterplot(x=\"time\", y=\"location\",\n",
    "              hue=\"value\",\n",
    "              data=day_pattern_1210.loc[day_pattern_1210.capability == \"contactSensor\",:],\n",
    "              ax = axs[1]\n",
    ")\n",
    "ax_contact.xaxis.set_major_locator(mdates.HourLocator(interval=4))\n",
    "ax_contact.xaxis.set_major_formatter(mdates.DateFormatter('%H:%M'))\n",
    "\n",
    "\n",
    "# Plot Motionsensor\n",
    "ax_motion = sb.scatterplot(x=\"time\", y=\"location\",\n",
    "              hue=\"value\",\n",
    "              data=day_pattern_1210.loc[day_pattern_1210.capability == \"motionSensor\",:],\n",
    "              ax = axs[2]\n",
    ")\n",
    "ax_motion.xaxis.set_major_locator(mdates.HourLocator(interval=4))\n",
    "ax_motion.xaxis.set_major_formatter(mdates.DateFormatter('%H:%M'))\n",
    "\n",
    "# Add titles\n",
    "axs[0].set_title(\"Lightswitch\")\n",
    "axs[1].set_title(\"Contact sensor\")\n",
    "axs[2].set_title(\"Motion sensor\")"
   ]
  },
  {
   "attachments": {},
   "cell_type": "markdown",
   "metadata": {},
   "source": [
    "This plot shows quit clearly that lightswitch is the best indicator for when the day starts and ends. However, it does not show clear pattern if someone is home. The motion sensor seems to better for this purpose. "
   ]
  },
  {
   "attachments": {},
   "cell_type": "markdown",
   "metadata": {},
   "source": [
    "## Prediction\n",
    "\n",
    "For prediction we will first need to clean the dataset. Than we will run a gaussian mixture model and spectral clustering to see if we can see pattern. "
   ]
  },
  {
   "cell_type": "code",
   "execution_count": null,
   "metadata": {},
   "outputs": [
    {
     "name": "stderr",
     "output_type": "stream",
     "text": [
      "C:\\Users\\remco\\AppData\\Local\\Temp\\ipykernel_62344\\3592918843.py:4: SettingWithCopyWarning: \n",
      "A value is trying to be set on a copy of a slice from a DataFrame\n",
      "\n",
      "See the caveats in the documentation: https://pandas.pydata.org/pandas-docs/stable/user_guide/indexing.html#returning-a-view-versus-a-copy\n",
      "  device_data_model.iloc[2].switch = True\n"
     ]
    }
   ],
   "source": [
    "# 4the of december till 18th of april\n",
    "device_data\n",
    "device_data_model.iloc[2].switch = True"
   ]
  },
  {
   "cell_type": "code",
   "execution_count": 66,
   "metadata": {},
   "outputs": [],
   "source": [
    "device_data_model = pd.DataFrame()\n",
    "device_data_model.index = pd.date_range('2022-12-4', '2023-04-8', freq='30min')\n",
    "device_data_model[\"switch\"] = False\n",
    "device_data_model[\"contact_sensor\"] = False\n",
    "device_data_model[\"motion_sensor\"] = False\n",
    "\n",
    "\n",
    "for i in range(1, len(device_data_model.index)):\n",
    "    mask = (device_data.index > device_data.index[i-1]) & (device_data.index <= device_data.index[i])\n",
    "    # First check if light switch is on\n",
    "    if device_data.loc[mask, \"value\"].str.contains(\"on\").any():\n",
    "        device_data_model[\"switch\"].iloc[i] = True\n",
    "    if device_data.loc[mask, \"value\"].str.contains(\"open\").any():\n",
    "        device_data_model[\"contact_sensor\"].iloc[i] = True\n",
    "    if device_data.loc[mask, \"value\"].str.contains(\"active\").any():\n",
    "        device_data_model[\"motion_sensor\"].iloc[i] = True"
   ]
  },
  {
   "cell_type": "code",
   "execution_count": 67,
   "metadata": {},
   "outputs": [
    {
     "data": {
      "text/html": [
       "<div>\n",
       "<style scoped>\n",
       "    .dataframe tbody tr th:only-of-type {\n",
       "        vertical-align: middle;\n",
       "    }\n",
       "\n",
       "    .dataframe tbody tr th {\n",
       "        vertical-align: top;\n",
       "    }\n",
       "\n",
       "    .dataframe thead th {\n",
       "        text-align: right;\n",
       "    }\n",
       "</style>\n",
       "<table border=\"1\" class=\"dataframe\">\n",
       "  <thead>\n",
       "    <tr style=\"text-align: right;\">\n",
       "      <th></th>\n",
       "      <th>switch</th>\n",
       "      <th>contact_sensor</th>\n",
       "      <th>motion_sensor</th>\n",
       "      <th>Weekday</th>\n",
       "    </tr>\n",
       "  </thead>\n",
       "  <tbody>\n",
       "    <tr>\n",
       "      <th>2022-12-04 00:00:00</th>\n",
       "      <td>False</td>\n",
       "      <td>False</td>\n",
       "      <td>False</td>\n",
       "      <td>Sunday</td>\n",
       "    </tr>\n",
       "    <tr>\n",
       "      <th>2022-12-04 00:30:00</th>\n",
       "      <td>False</td>\n",
       "      <td>False</td>\n",
       "      <td>False</td>\n",
       "      <td>Sunday</td>\n",
       "    </tr>\n",
       "    <tr>\n",
       "      <th>2022-12-04 01:00:00</th>\n",
       "      <td>True</td>\n",
       "      <td>False</td>\n",
       "      <td>True</td>\n",
       "      <td>Sunday</td>\n",
       "    </tr>\n",
       "    <tr>\n",
       "      <th>2022-12-04 01:30:00</th>\n",
       "      <td>True</td>\n",
       "      <td>False</td>\n",
       "      <td>True</td>\n",
       "      <td>Sunday</td>\n",
       "    </tr>\n",
       "    <tr>\n",
       "      <th>2022-12-04 02:00:00</th>\n",
       "      <td>True</td>\n",
       "      <td>False</td>\n",
       "      <td>True</td>\n",
       "      <td>Sunday</td>\n",
       "    </tr>\n",
       "    <tr>\n",
       "      <th>...</th>\n",
       "      <td>...</td>\n",
       "      <td>...</td>\n",
       "      <td>...</td>\n",
       "      <td>...</td>\n",
       "    </tr>\n",
       "    <tr>\n",
       "      <th>2023-04-07 22:00:00</th>\n",
       "      <td>False</td>\n",
       "      <td>True</td>\n",
       "      <td>True</td>\n",
       "      <td>Friday</td>\n",
       "    </tr>\n",
       "    <tr>\n",
       "      <th>2023-04-07 22:30:00</th>\n",
       "      <td>True</td>\n",
       "      <td>False</td>\n",
       "      <td>False</td>\n",
       "      <td>Friday</td>\n",
       "    </tr>\n",
       "    <tr>\n",
       "      <th>2023-04-07 23:00:00</th>\n",
       "      <td>False</td>\n",
       "      <td>False</td>\n",
       "      <td>False</td>\n",
       "      <td>Friday</td>\n",
       "    </tr>\n",
       "    <tr>\n",
       "      <th>2023-04-07 23:30:00</th>\n",
       "      <td>True</td>\n",
       "      <td>True</td>\n",
       "      <td>True</td>\n",
       "      <td>Friday</td>\n",
       "    </tr>\n",
       "    <tr>\n",
       "      <th>2023-04-08 00:00:00</th>\n",
       "      <td>True</td>\n",
       "      <td>False</td>\n",
       "      <td>True</td>\n",
       "      <td>Saturday</td>\n",
       "    </tr>\n",
       "  </tbody>\n",
       "</table>\n",
       "<p>6001 rows × 4 columns</p>\n",
       "</div>"
      ],
      "text/plain": [
       "                     switch  contact_sensor  motion_sensor   Weekday\n",
       "2022-12-04 00:00:00   False           False          False    Sunday\n",
       "2022-12-04 00:30:00   False           False          False    Sunday\n",
       "2022-12-04 01:00:00    True           False           True    Sunday\n",
       "2022-12-04 01:30:00    True           False           True    Sunday\n",
       "2022-12-04 02:00:00    True           False           True    Sunday\n",
       "...                     ...             ...            ...       ...\n",
       "2023-04-07 22:00:00   False            True           True    Friday\n",
       "2023-04-07 22:30:00    True           False          False    Friday\n",
       "2023-04-07 23:00:00   False           False          False    Friday\n",
       "2023-04-07 23:30:00    True            True           True    Friday\n",
       "2023-04-08 00:00:00    True           False           True  Saturday\n",
       "\n",
       "[6001 rows x 4 columns]"
      ]
     },
     "execution_count": 67,
     "metadata": {},
     "output_type": "execute_result"
    }
   ],
   "source": [
    "device_data_model['Weekday'] = device_data_model.index.map(lambda x : pd.Timestamp(x).day_name())"
   ]
  },
  {
   "cell_type": "code",
   "execution_count": 172,
   "metadata": {},
   "outputs": [],
   "source": [
    "device_data_model_mo = device_data_model.loc[device_data_model.Weekday == \"Monday\", [\"switch\", \"contact_sensor\", \"motion_sensor\"]]\n",
    "\n",
    "# For the train test split we will use till february to train and from febuary onward to test\n",
    "# This is not random but since we need full days it is our best option\n",
    "mask = device_data_model_mo.index < datetime.strptime(\"03-1-2023\", '%m-%d-%Y')\n",
    "X_train = device_data_model_mo.loc[mask, :]\n",
    "X_test = device_data_model_mo.loc[~mask, :]"
   ]
  },
  {
   "cell_type": "code",
   "execution_count": 178,
   "metadata": {},
   "outputs": [
    {
     "name": "stderr",
     "output_type": "stream",
     "text": [
      "C:\\Users\\remco\\AppData\\Local\\Temp\\ipykernel_62344\\3174699728.py:13: SettingWithCopyWarning: \n",
      "A value is trying to be set on a copy of a slice from a DataFrame.\n",
      "Try using .loc[row_indexer,col_indexer] = value instead\n",
      "\n",
      "See the caveats in the documentation: https://pandas.pydata.org/pandas-docs/stable/user_guide/indexing.html#returning-a-view-versus-a-copy\n",
      "  X_test[\"active\"] = gm.predict(X_test)\n"
     ]
    }
   ],
   "source": [
    "from sklearn.mixture import GaussianMixture\n",
    "\n",
    "device_data_model_mo = device_data_model.loc[device_data_model.Weekday == \"Monday\", [\"switch\", \"contact_sensor\", \"motion_sensor\"]]\n",
    "\n",
    "# For the train test split we will use till february to train and from febuary onward to test\n",
    "# This is not random but since we need full days it is our best option\n",
    "mask = device_data_model_mo.index < datetime.strptime(\"03-1-2023\", '%m-%d-%Y')\n",
    "X_train = device_data_model_mo.loc[mask, :]\n",
    "X_test = device_data_model_mo.loc[~mask, :]\n",
    "\n",
    "# Run the model\n",
    "gm = GaussianMixture(n_components=2, random_state=0).fit(X_train)\n",
    "X_test[\"active\"] = gm.predict(X_test)\n"
   ]
  },
  {
   "cell_type": "code",
   "execution_count": 176,
   "metadata": {},
   "outputs": [],
   "source": [
    "# Make seperate plot function for further use\n",
    "def plot_day(data, date, y, axes):\n",
    "    ax = sb.scatterplot(y=y, x = data.loc[data.index.strftime('%Y-%m-%d') == date, :].index,\n",
    "              data = data.loc[data.index.strftime('%Y-%m-%d') == date, :],\n",
    "              ax = axs[axes]\n",
    "    )\n",
    "    ax.xaxis.set_major_locator(mdates.HourLocator(interval=4))\n",
    "    ax.xaxis.set_major_formatter(mdates.DateFormatter('%H:%M'))"
   ]
  },
  {
   "cell_type": "code",
   "execution_count": 177,
   "metadata": {},
   "outputs": [
    {
     "data": {
      "image/png": "[encoded data removed]",
      "text/plain": [
       "<Figure size 1500x500 with 3 Axes>"
      ]
     },
     "metadata": {},
     "output_type": "display_data"
    }
   ],
   "source": [
    "device_data.loc[device_data.index.strftime('%Y-%m-%d') == \"2022-12-10\", :]\n",
    "\n",
    "fig, axs = plt.subplots(1, 3, figsize=(15, 5), sharey=True)\n",
    "fig.suptitle('Result gaussian mixture model')\n",
    "\n",
    "# Plot oneday\n",
    "plot_day(data = X_test, date = '2023-03-06', y=\"active\", axes = 0)\n",
    "plot_day(data = X_test, date = '2023-03-20', y=\"active\", axes = 1)\n",
    "plot_day(data = X_test, date = '2023-04-03', y=\"active\", axes = 2)\n"
   ]
  },
  {
   "attachments": {},
   "cell_type": "markdown",
   "metadata": {},
   "source": [
    "A guassian mixture model does not seem to show any clear patterns in expectation with when someone will be inactive"
   ]
  },
  {
   "cell_type": "code",
   "execution_count": 197,
   "metadata": {},
   "outputs": [
    {
     "name": "stderr",
     "output_type": "stream",
     "text": [
      "C:\\Users\\remco\\AppData\\Local\\Temp\\ipykernel_62344\\156478979.py:13: SettingWithCopyWarning: \n",
      "A value is trying to be set on a copy of a slice from a DataFrame.\n",
      "Try using .loc[row_indexer,col_indexer] = value instead\n",
      "\n",
      "See the caveats in the documentation: https://pandas.pydata.org/pandas-docs/stable/user_guide/indexing.html#returning-a-view-versus-a-copy\n",
      "  X_test[\"active\"] = clustering.fit_predict(X_test)\n"
     ]
    }
   ],
   "source": [
    "from sklearn.cluster import SpectralClustering\n",
    "\n",
    "device_data_model_mo = device_data_model.loc[device_data_model.Weekday == \"Monday\", [\"switch\", \"contact_sensor\", \"motion_sensor\"]]\n",
    "\n",
    "# For the train test split we will use till february to train and from febuary onward to test\n",
    "# This is not random but since we need full days it is our best option\n",
    "mask = device_data_model_mo.index < datetime.strptime(\"03-1-2023\", '%m-%d-%Y')\n",
    "X_train = device_data_model_mo.loc[mask, :]\n",
    "X_test = device_data_model_mo.loc[~mask, :]\n",
    "\n",
    "# Run the model\n",
    "clustering = SpectralClustering(n_clusters=2, assign_labels='discretize',random_state=0).fit(X_train)\n",
    "X_test[\"active\"] = clustering.fit_predict(X_test)\n",
    "\n",
    "\n",
    "#X_test[\"active\"] = \n"
   ]
  },
  {
   "cell_type": "code",
   "execution_count": 199,
   "metadata": {},
   "outputs": [
    {
     "data": {
      "image/png": "[encoded data removed]",
      "text/plain": [
       "<Figure size 1500x500 with 3 Axes>"
      ]
     },
     "metadata": {},
     "output_type": "display_data"
    }
   ],
   "source": [
    "device_data.loc[device_data.index.strftime('%Y-%m-%d') == \"2022-12-10\", :]\n",
    "\n",
    "fig, axs = plt.subplots(1, 3, figsize=(15, 5), sharey=True)\n",
    "fig.suptitle('Result spectral clustering model')\n",
    "\n",
    "# Plot oneday\n",
    "plot_day(data = X_test, date = '2023-03-06', y=\"active\", axes = 0)\n",
    "plot_day(data = X_test, date = '2023-03-20', y=\"active\", axes = 1)\n",
    "plot_day(data = X_test, date = '2023-04-03', y=\"active\", axes = 2)\n"
   ]
  },
  {
   "attachments": {},
   "cell_type": "markdown",
   "metadata": {},
   "source": [
    "As can be seen above clustering methods do not predict behaviour correctly. However we have seen that the first time a lamp turns on and motionsensor show a general trend. We will thus further examing the statistics to see if there is a pattern. We will start with looking at the average time before and after 4.00 at the morning the light goes first out and on in the bedroom to see the average bedtime for each day. "
   ]
  },
  {
   "cell_type": "code",
   "execution_count": 304,
   "metadata": {},
   "outputs": [],
   "source": [
    "import datetime as dt\n",
    "from datetime import datetime as datetime\n",
    "\n",
    "# Create dataframe\n",
    "device2day = pd.DataFrame()\n",
    "device2day.index = pd.date_range('2022-12-4', '2023-04-8', freq='1D')\n",
    "device2day[\"light_on\"] = datetime.strptime(\"01:00:00\", '%H:%M:%S')\n",
    "device2day[\"light_off\"] = datetime.strptime(\"01:00:00\", '%H:%M:%S')\n",
    "\n",
    "# Get for each day the two times\n",
    "for day in device2day.index:\n",
    "    next_day = day + dt.timedelta(days = 1)\n",
    "\n",
    "    mask = (device_data.index >= day.replace(hour=4)) & (device_data.index < next_day.replace(hour=4))\n",
    "\n",
    "    if len(device_data.loc[mask & (device_data.value == \"on\")].index) != 0:\n",
    "        device2day.loc[day, \"light_on\"] = min(device_data.loc[mask & (device_data.value == \"on\")].index)\n",
    "    else:\n",
    "        device2day.loc[day, \"light_on\"] = np.nan\n",
    "\n",
    "    if len(device_data.loc[mask & (device_data.value == \"off\")].index) != 0:\n",
    "        device2day.loc[day, \"light_off\"] = max(device_data.loc[mask & (device_data.value == \"off\")].index)\n",
    "    else:\n",
    "        device2day.loc[day, \"light_off\"] = np.nan\n",
    "\n",
    "\n",
    "\n",
    "\n"
   ]
  },
  {
   "cell_type": "code",
   "execution_count": 312,
   "metadata": {},
   "outputs": [
    {
     "data": {
      "text/html": [
       "<div>\n",
       "<style scoped>\n",
       "    .dataframe tbody tr th:only-of-type {\n",
       "        vertical-align: middle;\n",
       "    }\n",
       "\n",
       "    .dataframe tbody tr th {\n",
       "        vertical-align: top;\n",
       "    }\n",
       "\n",
       "    .dataframe thead th {\n",
       "        text-align: right;\n",
       "    }\n",
       "</style>\n",
       "<table border=\"1\" class=\"dataframe\">\n",
       "  <thead>\n",
       "    <tr style=\"text-align: right;\">\n",
       "      <th></th>\n",
       "      <th>light_on_int</th>\n",
       "      <th>light_off_int</th>\n",
       "    </tr>\n",
       "    <tr>\n",
       "      <th>weekday</th>\n",
       "      <th></th>\n",
       "      <th></th>\n",
       "    </tr>\n",
       "  </thead>\n",
       "  <tbody>\n",
       "    <tr>\n",
       "      <th>Sunday</th>\n",
       "      <td>7:0</td>\n",
       "      <td>3:27</td>\n",
       "    </tr>\n",
       "    <tr>\n",
       "      <th>Monday</th>\n",
       "      <td>7:41</td>\n",
       "      <td>3:27</td>\n",
       "    </tr>\n",
       "    <tr>\n",
       "      <th>Tuesday</th>\n",
       "      <td>6:50</td>\n",
       "      <td>4:45</td>\n",
       "    </tr>\n",
       "    <tr>\n",
       "      <th>Wednesday</th>\n",
       "      <td>6:52</td>\n",
       "      <td>9:43</td>\n",
       "    </tr>\n",
       "    <tr>\n",
       "      <th>Thursday</th>\n",
       "      <td>6:42</td>\n",
       "      <td>7:2</td>\n",
       "    </tr>\n",
       "    <tr>\n",
       "      <th>Friday</th>\n",
       "      <td>6:27</td>\n",
       "      <td>2:34</td>\n",
       "    </tr>\n",
       "    <tr>\n",
       "      <th>Saturday</th>\n",
       "      <td>6:52</td>\n",
       "      <td>2:52</td>\n",
       "    </tr>\n",
       "  </tbody>\n",
       "</table>\n",
       "</div>"
      ],
      "text/plain": [
       "          light_on_int light_off_int\n",
       "weekday                             \n",
       "Sunday             7:0          3:27\n",
       "Monday            7:41          3:27\n",
       "Tuesday           6:50          4:45\n",
       "Wednesday         6:52          9:43\n",
       "Thursday          6:42           7:2\n",
       "Friday            6:27          2:34\n",
       "Saturday          6:52          2:52"
      ]
     },
     "execution_count": 312,
     "metadata": {},
     "output_type": "execute_result"
    }
   ],
   "source": [
    "# Now show the light on and light off time filterd by weekday\n",
    "from math import floor\n",
    "\n",
    "device2day[\"weekday\"] = device2day.index.map(lambda x : pd.Timestamp(x).day_name())\n",
    "device2day[\"light_on_int\"] = device2day[\"light_on\"].apply(lambda x : x.hour + x.minute/60)\n",
    "device2day[\"light_off_int\"] = device2day[\"light_off\"].apply(lambda x : x.hour + x.minute/60)\n",
    "\n",
    "info_table = device2day.groupby(\"weekday\", sort=False, dropna=True).mean().loc[:,[\"light_on_int\", \"light_off_int\"]]\n",
    "info_table[\"light_on_int\"] = info_table[\"light_on_int\"].apply(lambda x : f'{floor(x)}:{int((x-floor(x))*60)}')\n",
    "info_table[\"light_off_int\"] = info_table[\"light_off_int\"].apply(lambda x : f'{floor(x)}:{int((x-floor(x))*60)}')\n",
    "info_table\n"
   ]
  },
  {
   "attachments": {},
   "cell_type": "markdown",
   "metadata": {},
   "source": [
    "As can be seen in the table above this method is not perfect. Mainly the lights off is quit strange. 4 o clock in afternoon or 7 o clock onn average is not verry likely. However the times the light go on could be realistic. It is all around 7 in the morning."
   ]
  }
 ],
 "metadata": {
  "kernelspec": {
   "display_name": "Python 3",
   "language": "python",
   "name": "python3"
  },
  "language_info": {
   "codemirror_mode": {
    "name": "ipython",
    "version": 3
   },
   "file_extension": ".py",
   "mimetype": "text/x-python",
   "name": "python",
   "nbconvert_exporter": "python",
   "pygments_lexer": "ipython3",
   "version": "3.11.3"
  },
  "orig_nbformat": 4
 },
 "nbformat": 4,
 "nbformat_minor": 2
}
